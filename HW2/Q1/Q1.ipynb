{
 "cells": [
  {
   "cell_type": "code",
   "execution_count": 66,
   "metadata": {},
   "outputs": [],
   "source": [
    "import numpy as np \n",
    "import scipy\n",
    "import string\n",
    "import random\n",
    "from itertools import permutations"
   ]
  },
  {
   "cell_type": "code",
   "execution_count": 67,
   "metadata": {},
   "outputs": [],
   "source": [
    "def listify(s):\n",
    "    return [c for c in s]"
   ]
  },
  {
   "cell_type": "code",
   "execution_count": 68,
   "metadata": {},
   "outputs": [],
   "source": [
    "def stringify(x):\n",
    "    return \"\".join(x) "
   ]
  },
  {
   "cell_type": "code",
   "execution_count": 69,
   "metadata": {},
   "outputs": [],
   "source": [
    "def get_rotations(s):\n",
    "    res = []\n",
    "    for i in range(len(s)):\n",
    "        res.append( stringify(s[i:] + s[:i]) )\n",
    "    return res"
   ]
  },
  {
   "cell_type": "code",
   "execution_count": 70,
   "metadata": {},
   "outputs": [],
   "source": [
    "def BWT(x):\n",
    "   A = [i for i in get_rotations( x )]\n",
    "\n",
    "   A_prime = [\"\".join(i) for i in A]\n",
    "   B = sorted(A_prime)\n",
    "   \n",
    "   last_col = [listify(B[i])[-1] for i in range(len(B))]\n",
    "   return last_col, B.index(stringify(x)), B"
   ]
  },
  {
   "cell_type": "code",
   "execution_count": 71,
   "metadata": {},
   "outputs": [],
   "source": [
    "def reconstruct_B(y):\n",
    "    x = listify(y)\n",
    "    A = [i for i in get_rotations( x )]\n",
    "\n",
    "    A_prime = [\"\".join(i) for i in A]\n",
    "    B = sorted(A_prime)\n",
    "    return B"
   ]
  },
  {
   "cell_type": "code",
   "execution_count": 72,
   "metadata": {},
   "outputs": [],
   "source": [
    "def reconstruct_x(y, L):\n",
    "    B = reconstruct_B(y)\n",
    "    x = B[L]\n",
    "    return listify(x)"
   ]
  },
  {
   "cell_type": "code",
   "execution_count": 73,
   "metadata": {},
   "outputs": [
    {
     "name": "stdout",
     "output_type": "stream",
     "text": [
      "['b', 'b', 'b', 'c', 'a', 'c', 'a', 'a', 'b'] 0\n"
     ]
    }
   ],
   "source": [
    "input_string = 'ababcbacb'\n",
    "x = listify(input_string)\n",
    "y, L, B = BWT(x)\n",
    "print(y, L)"
   ]
  }
 ],
 "metadata": {
  "interpreter": {
   "hash": "df0b365442c0df389efbe35aadfe89e1cdb249dafa838beb96a18b2712e6db9c"
  },
  "kernelspec": {
   "display_name": "Python 3.9.7 64-bit ('compression': conda)",
   "name": "python3"
  },
  "language_info": {
   "codemirror_mode": {
    "name": "ipython",
    "version": 3
   },
   "file_extension": ".py",
   "mimetype": "text/x-python",
   "name": "python",
   "nbconvert_exporter": "python",
   "pygments_lexer": "ipython3",
   "version": "3.9.7"
  },
  "orig_nbformat": 2
 },
 "nbformat": 4,
 "nbformat_minor": 2
}
