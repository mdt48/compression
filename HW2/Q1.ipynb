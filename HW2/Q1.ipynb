{
 "metadata": {
  "language_info": {
   "codemirror_mode": {
    "name": "ipython",
    "version": 3
   },
   "file_extension": ".py",
   "mimetype": "text/x-python",
   "name": "python",
   "nbconvert_exporter": "python",
   "pygments_lexer": "ipython3",
   "version": "3.8.5"
  },
  "orig_nbformat": 2,
  "kernelspec": {
   "name": "python385jvsc74a57bd03cd23d205e4ab1f42577b09763a97eb54392f0fe0d8bf53edc7093741c22af61",
   "display_name": "Python 3.8.5 64-bit (conda)"
  }
 },
 "nbformat": 4,
 "nbformat_minor": 2,
 "cells": [
  {
   "cell_type": "code",
   "execution_count": 1,
   "metadata": {},
   "outputs": [],
   "source": [
    "import numpy as np \n",
    "import scipy\n",
    "import string\n",
    "import random\n",
    "from itertools import permutations"
   ]
  },
  {
   "cell_type": "code",
   "execution_count": 2,
   "metadata": {},
   "outputs": [],
   "source": [
    "def listify(s):\n",
    "    return [c for c in s]"
   ]
  },
  {
   "cell_type": "code",
   "execution_count": 3,
   "metadata": {},
   "outputs": [],
   "source": [
    "def stringify(x):\n",
    "    return \"\".join(x) "
   ]
  },
  {
   "cell_type": "code",
   "execution_count": 4,
   "metadata": {},
   "outputs": [],
   "source": [
    "def get_rotations(s):\n",
    "    res = []\n",
    "    for i in range(len(s)):\n",
    "        res.append( listify(s[i:] + s[:i]) )\n",
    "    return res"
   ]
  },
  {
   "cell_type": "code",
   "execution_count": 5,
   "metadata": {},
   "outputs": [],
   "source": [
    "def BWT(x):\n",
    "   A = [i for i in get_rotations( x )]\n",
    "\n",
    "   A_prime = [\"\".join(i) for i in A]\n",
    "   B = sorted(A_prime)\n",
    "\n",
    "   return B[-1], B.index(stringify(x)), B"
   ]
  },
  {
   "cell_type": "code",
   "execution_count": 6,
   "metadata": {},
   "outputs": [],
   "source": [
    "def reconstruct_B(y):\n",
    "    x = listify(y)\n",
    "    A = [i for i in get_rotations( x )]\n",
    "\n",
    "    A_prime = [\"\".join(i) for i in A]\n",
    "    B = sorted(A_prime)\n",
    "    return B"
   ]
  },
  {
   "cell_type": "code",
   "execution_count": 7,
   "metadata": {},
   "outputs": [],
   "source": [
    "def reconstruct_x(y, L):\n",
    "    B = reconstruct_B(y)\n",
    "    x = B[L]\n",
    "    return listify(x)"
   ]
  },
  {
   "cell_type": "code",
   "execution_count": 11,
   "metadata": {},
   "outputs": [
    {
     "output_type": "stream",
     "name": "stdout",
     "text": [
      "with that hatThe cat  4\n"
     ]
    }
   ],
   "source": [
    "input_string = 'The cat with that hat'\n",
    "x = listify(input_string)\n",
    "y, L, B = BWT(x)\n",
    "print(y, L)"
   ]
  },
  {
   "cell_type": "code",
   "execution_count": 12,
   "metadata": {
    "tags": []
   },
   "outputs": [],
   "source": [
    "recon_B = reconstruct_B(y)"
   ]
  },
  {
   "cell_type": "code",
   "execution_count": 13,
   "metadata": {},
   "outputs": [
    {
     "output_type": "stream",
     "name": "stdout",
     "text": [
      "['T', 'h', 'e', ' ', 'c', 'a', 't', ' ', 'w', 'i', 't', 'h', ' ', 't', 'h', 'a', 't', ' ', 'h', 'a', 't']\nTrue\n"
     ]
    }
   ],
   "source": [
    "recon_x = reconstruct_x(y, L)\n",
    "print(recon_x)\n",
    "print(recon_x == x)"
   ]
  }
 ]
}